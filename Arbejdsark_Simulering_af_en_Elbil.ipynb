{
  "nbformat": 4,
  "nbformat_minor": 0,
  "metadata": {
    "colab": {
      "provenance": [],
      "mount_file_id": "13r8dEkI6KS5z5m0o_Tnlvi3BX9pqV0ww",
      "authorship_tag": "ABX9TyNmURFHo1FUW78nLsn9l8h7",
      "include_colab_link": true
    },
    "kernelspec": {
      "name": "python3",
      "display_name": "Python 3"
    },
    "language_info": {
      "name": "python"
    }
  },
  "cells": [
    {
      "cell_type": "markdown",
      "metadata": {
        "id": "view-in-github",
        "colab_type": "text"
      },
      "source": [
        "<a href=\"https://colab.research.google.com/github/TMA040685/Elbilens-fysik/blob/Colab-codes/Arbejdsark_Simulering_af_en_Elbil.ipynb\" target=\"_parent\"><img src=\"https://colab.research.google.com/assets/colab-badge.svg\" alt=\"Open In Colab\"/></a>"
      ]
    },
    {
      "cell_type": "markdown",
      "source": [
        "# Simulering af en Elbil - et arbejdsark\n",
        "På arket herunder vil vi gennemgå hvordan man kan simulerer en ELbil med programmeringssproget *Python*. Udgangspunktet for dette arbejdsark er (s. 62 - 63, Larsen, 2024).\n",
        "\n",
        "Disse sider omhandler den simpleste Elbil vi kan konstruerer og her skal vi bl.a. arbejde med følgende ligninger\n",
        "\n",
        "$$SoC_\\mathrm{t} = \\frac{Q_\\mathrm{t}}{Q_\\mathrm{max}}$$\n",
        "\n",
        "samt ligningen\n",
        "\n",
        "$$SoC_\\mathrm{t+\\Delta t} - SoC_\\mathrm{t}= -\\frac{1}{Q_\\mathrm{max}}\\cdot I_\\mathrm{t}\\cdot\\Delta t$$\n",
        "\n",
        "\n",
        "Vi kan altså nu stille følgende spørgsmål:\n",
        "\n",
        "**Hvordan påvirkes ladningstilstanden og dermed rækkevidden af en elbil af forskellige primære faktorer som batteriet, elektromotoren og kørslen?**\n",
        "\n",
        "## Model 1\n",
        "Vi vil nu lave den simple model for en elbil. I denne model betragter vi bilens motor og den batteri som en meget simpelt system, hvor det eneste der antages at have indflydelse på bilens ladningstilstand, er strømstyrken gennem batteriet.\n",
        "\n",
        "Desuden antages det at der er tale om et ideelt batteri uden tab af energi. Endvidere forsætter vi at der køres i tre timer med konstant belastning."
      ],
      "metadata": {
        "id": "TnvEXbwEOXlU"
      }
    },
    {
      "cell_type": "markdown",
      "source": [
        "### 1 - Indlæs de nødvendige biblioteker i python\n",
        "Når vi skal lave en simulering er det nødvendigt at indlæse nogle biblioteker som vil gøre det lættere for os at gennemfører simuleringen. For at indlæse et bibliotek i Python skal man skrive følgende.\n",
        "\n",
        "```\n",
        "import biblioteksnavn as forkortelse\n",
        "```\n",
        "vi skal fx bruge biblioteket NumPy dette kunne man indlæse som:\n",
        "\n",
        "```\n",
        "import numpy as np\n",
        "```\n",
        "Herefter kan vi benytte elementer fra biblioteket ved at skrive ***np.*** foran de funktioner vi skal bruge fra NumPy. Desuden skal vi tegne figurer og til det skal vi anvende biblioteket **matplotlib.pyplot**\n",
        "Her skal du også til føje linjen\n",
        "\n",
        "```\n",
        "%matplotlib inline\n",
        "```\n",
        "hvilket gør det nemt at plotte figurer.\n",
        "\n",
        "\n",
        "\n",
        "> Din opgave er nu at indlæse hhv. numpy og matplotlib.pyplot i python. Når du har skrevet linjerne skal du trykke på shift + enter for at afvikle koden.\n",
        "\n",
        "\n"
      ],
      "metadata": {
        "id": "uwn-LBbWRPnu"
      }
    },
    {
      "cell_type": "code",
      "execution_count": null,
      "metadata": {
        "id": "iI4s950_OQ8d"
      },
      "outputs": [],
      "source": [
        "# Kode blok til at indlæse biblioter i"
      ]
    },
    {
      "cell_type": "markdown",
      "source": [
        "### 2 - Begyndelsesbetingelser\n",
        "Når du har indlæst bibliotekerne så skal vi have defineret en række begyndelses betingelser. Dete r altså de størrelser som vores variable har fra start og det er også variable som vi kan få brugfor igennem vores simulering.\n",
        "\n",
        "I denne simple model skal vi definere 6 variable. Vi skal have følgende\n",
        "* Strømstyrken\n",
        "* Antallet af skridt i vores model\n",
        "* Den tid som modellen skal løbe over\n",
        "* Vores tidsskridt\n",
        "* Den nominelle spænding på vores batteri\n",
        "* Den maksimale ladningskapacitet\n",
        "\n",
        "> Du skal nu definerer disse størrelser i den næste celle."
      ],
      "metadata": {
        "id": "KUEk4GPFXkuY"
      }
    },
    {
      "cell_type": "code",
      "source": [
        "# Kode blok til at definere startbetingelserne i"
      ],
      "metadata": {
        "id": "4BIHLmGGYbZg"
      },
      "execution_count": null,
      "outputs": []
    },
    {
      "cell_type": "markdown",
      "source": [
        "### 3 - Eulers metode\n",
        "Nu er vi kommet til selve den del hvor vi skal skabe simuleringen dette gøres lettest vha. *Eulers metode*.\n",
        "\n",
        "I bogen (s. 63, Larsen, 2024) er der givet et eksempel på anvendelsen af denne, se herunder\n",
        "\n",
        "```\n",
        "# Model 1: Strømmen gennem batteriets betyden for ladningstilstanden\n",
        "I = 30   # Strømmen gennem batteriet i ampere\n",
        "# Eulers metode\n",
        "def eulers_metode(delta_t, num_steps):\n",
        "  qt = Qmax                         # Startladningen i enheden Coulomb\n",
        "  t_values = np.zeros(num_steps)    # Liste til at gemme tidspunkterne\n",
        "  SoC_values = np.zeros(num_steps)  # Liste til at gemme ladningstilstanden\n",
        "\n",
        "  for i in range(num_steps):\n",
        "    qt -= I * delta_t               # Beregning af den ladning som fjernes i tidsrummet\n",
        "    t_values[i] = i * delta_t/3600  # Gem tiden i enheden timer\n",
        "    SoC_values[i] = qt / Qmax * 100 # Den aktuelle ladnings tilstand\n",
        "\n",
        "  return t_values, SoC_values\n",
        "```\n",
        "\n",
        "Dette vil give dig en løsning af problemstillingen vha. Eulers metode\n",
        "\n",
        "> Din opgave er nu at få skrevet en funktion for Eulers metode til at gennemfører denne simulering i cellen herunder!"
      ],
      "metadata": {
        "id": "0mqFCdRryAMr"
      }
    },
    {
      "cell_type": "code",
      "source": [
        "# Kode blok til at beskrive Eulers-metode i"
      ],
      "metadata": {
        "id": "BtrZ8ubaz7MI"
      },
      "execution_count": null,
      "outputs": []
    },
    {
      "cell_type": "markdown",
      "source": [
        "### 4 - Foretag beregningerne\n",
        "\n",
        "Nu mangler du egentlig kun at lavet en beregning af modellen ved brug af den funktion du har tastet ind ovenfor.\n",
        "\n",
        "Du kan foretage beregningen ved at skrive følgende i et kode felt.\n",
        "\n",
        "```\n",
        "t_values , SoC_values = eulers_metode(delta_t, num_steps)\n",
        "```\n",
        "\n",
        "Her skal du udskifte *t_values* og *SoC_values* med hvad du gerne vil have de hedder. Desuden skal du udskifte navnene *delta_t* og *num_steps* med hvad end du nu har kaldt dit tidsskridt og dit antal af skridt i modellen.\n",
        "\n",
        "> Foretag nu beregningen af din model i cellen herunder"
      ],
      "metadata": {
        "id": "T9DxjUUXz-Bz"
      }
    },
    {
      "cell_type": "code",
      "source": [
        "# Kode blok til at gennemfører model beregningen"
      ],
      "metadata": {
        "id": "xM90bSs_08wy"
      },
      "execution_count": null,
      "outputs": []
    },
    {
      "cell_type": "markdown",
      "source": [
        "### 5 - Plot resultatet\n",
        "Det sidst vi mangler er at plotte resultatet. For at gøre dette skal vi først åbne en figur dette kan gøres med kommandoen\n",
        "\n",
        "```\n",
        "plt.figure()\n",
        "```\n",
        "*plt* henviser til forkortelsen for matplotlib som du definerede i starten af arbejdsarket.\n",
        "\n",
        "Efterfølgende skal du plotte figuren - det minder om noget du kender, og det gøres med.\n",
        "\n",
        "```\n",
        "plt.plot(x,y,'b.')\n",
        "```\n",
        "Her udskiftes *x* og *y* med det du gerne vil have på *x-aksen* og *y-aksen*, mens *'b.'* fortæller at du gerne vil plotte med små blå punkter.\n",
        "\n",
        "Hvis du gerne vil have aksetitler på kan dette fx gøres med\n",
        "```\n",
        "plt.ylabel('Ønsket titel')\n",
        "```\n",
        "\n"
      ],
      "metadata": {
        "id": "q9duYEx31BIJ"
      }
    },
    {
      "cell_type": "code",
      "source": [
        "# Kode blok til at plotte figuren i"
      ],
      "metadata": {
        "collapsed": true,
        "id": "IRtsAeQD2OYB"
      },
      "execution_count": null,
      "outputs": []
    },
    {
      "cell_type": "markdown",
      "source": [
        "## 6 - Afsluttende bemærkninger\n",
        "\n",
        "Hvis du ellers har anvendt de samme parametre som er givet i bogen og du har fulgt arbejdsarket her så vil du nu have en figur som skulle se ud som vist herunder.\n",
        "\n",
        "<img src='https://drive.google.com/uc?id=1vanuxZntaorT6zdkp9PeUy2XgBiGUmlk'>\n",
        "\n",
        "Vi kan nu bestte den sidst værdi for ladningstilstanden og dermed den SoC vi er interesseret i at finde for vores bil efter de 3 timer.\n",
        "\n",
        "Dette kan man gøre på to forskellige måder enten kan man forsøge at aflæse det på grafen her vil man komme frem til at den er mellem 50 % og 60 % sandsynligvis omkring 55 %.\n",
        "\n",
        "Den anden måde er at spørge modellen hvad den sidste beregnede SoC er. Dette kan man gøre hvis man kender antallet af skridt i den model man har beregnet, fordi den sidste indgang har indeks-nummeret svarende til antallet af skridt minus 1.\n",
        "\n",
        "```\n",
        "SoC_values[num_steps - 1]\n",
        "```\n",
        "\n",
        "Det vil returnerer værdien for SoC til tiden 3 timer i vores tilfælde her.\n",
        "\n",
        "> Prøv nu om du kan aflæse grafen og om du kan bestemme værdien baseret på den sidste indgang i vektoren SoC."
      ],
      "metadata": {
        "id": "xb9KEJBg3B2T"
      }
    },
    {
      "cell_type": "code",
      "source": [
        "# Kode blok til at udskrive resultatet i"
      ],
      "metadata": {
        "id": "s4ekE8sW4np1"
      },
      "execution_count": null,
      "outputs": []
    },
    {
      "cell_type": "markdown",
      "source": [
        "## Litteraturliste\n",
        "\n",
        "Larsen, M. S. (2024). *Elbilens fysik - og andre elektriske transportmidler*. Fysikforlaget."
      ],
      "metadata": {
        "id": "8sNd-gYFOpPW"
      }
    }
  ]
}